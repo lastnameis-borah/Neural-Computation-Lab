{
 "cells": [
  {
   "cell_type": "markdown",
   "metadata": {},
   "source": [
    "### Neural Computation Exercise 3: Gradient Descent\n",
    "\n",
    "In this exercise, we'll develop implementations of gradient descent and its minibatch algorithms. As in Exercise 2, we will use the Boston Housing dataset. Instead of using the exact solution, we use gradient descent and minibatch gradient descent to solve this problem.\n",
    "\n",
    "In this exercise, you will learn the following\n",
    "* implement the `gradient descent` method\n",
    "* implement the `minibatch gradient descent` method"
   ]
  },
  {
   "cell_type": "code",
   "execution_count": 1,
   "metadata": {},
   "outputs": [],
   "source": [
    "import matplotlib\n",
    "import numpy as np\n",
    "import random\n",
    "import warnings\n",
    "import matplotlib.pyplot as plt \n",
    "from sklearn import preprocessing   # for normalization"
   ]
  },
  {
   "cell_type": "markdown",
   "metadata": {},
   "source": [
    "## Boston Housing Data\n",
    "\n",
    "The Boston Housing data is one of the datasets available in sklearn.\n",
    "We can import the dataset and preprocess it as follows. Note we add a feature of $1$ to `x_input` to get a n x (d+1) matrix `x_in`"
   ]
  },
  {
   "cell_type": "code",
   "execution_count": 2,
   "metadata": {},
   "outputs": [],
   "source": [
    "from sklearn.datasets import load_boston\n",
    "with warnings.catch_warnings():\n",
    "    warnings.filterwarnings(\"ignore\")\n",
    "    boston_data = load_boston()\n",
    "data = boston_data['data']\n",
    "x_input = data  # a data matrix\n",
    "y_target = boston_data['target'] # a vector for all outputs\n",
    "# add a feature 1 to the dataset, then we do not need to consider the bias and weight separately\n",
    "x_in = np.concatenate([np.ones([np.shape(x_input)[0], 1]), x_input], axis=1)\n",
    "# we normalize the data so that each has regularity\n",
    "x_in = preprocessing.normalize(x_in)\n"
   ]
  },
  {
   "cell_type": "markdown",
   "metadata": {},
   "source": [
    "## Linear Model\n",
    "\n",
    "A linear regression model in one variable has the following form \n",
    "$$\n",
    "f(x)=\\mathbf{w}^\\top \\mathbf{x}.\n",
    "$$\n",
    "The following function computes the output of the linear model on a data matrix of size n x (d+1)."
   ]
  },
  {
   "cell_type": "code",
   "execution_count": 13,
   "metadata": {},
   "outputs": [],
   "source": [
    "def linearmat_2(w, X):\n",
    "    '''\n",
    "    a vectorization of linearmat_1 in lab 2.\n",
    "    Input: w is a weight parameter (including the bias), and X is a data matrix (n x (d+1)) (including the feature)\n",
    "    Output: a vector containing the predictions of linear models\n",
    "    '''\n",
    "    return np.dot(X, w)"
   ]
  },
  {
   "cell_type": "markdown",
   "metadata": {},
   "source": [
    "## Cost Function\n",
    "\n",
    "We defined the following `mean square error` function for a linear regression problem using the square loss:\n",
    "$$\n",
    "C(\\mathbf{y}, \\mathbf{t}) = \\frac{1}{2n}(\\mathbf{y}-\\mathbf{t})^\\top (\\mathbf{y}-\\mathbf{t}).\n",
    "$$\n",
    "The python implementation is as follows"
   ]
  },
  {
   "cell_type": "code",
   "execution_count": 4,
   "metadata": {},
   "outputs": [],
   "source": [
    "def cost(w, X, y):\n",
    "    '''\n",
    "    Evaluate the cost function in a vectorized manner for \n",
    "    inputs `X` and outputs `y`, at weights `w`.\n",
    "    '''\n",
    "    residual = y - linearmat_2(w, X)  # get the residual\n",
    "    err = np.dot(residual, residual) / (2 * len(y)) # compute the error\n",
    "    \n",
    "    return err"
   ]
  },
  {
   "cell_type": "markdown",
   "metadata": {},
   "source": [
    "## Gradient Computation\n",
    "\n",
    "Our methods require to use the gradient of the `cost` function. As discussed in the previous lecture, the gradient can be computed by\n",
    "$$\\nabla C(\\mathbf{w}) =\\frac{1}{n}X^\\top\\big(X\\mathbf{w}-\\mathbf{y}\\big)$$\n",
    "In the following, we present the python implementation on the gradient computation"
   ]
  },
  {
   "cell_type": "code",
   "execution_count": 5,
   "metadata": {},
   "outputs": [],
   "source": [
    "# Vectorized gradient function\n",
    "def gradfn(weights, X, y):\n",
    "    '''\n",
    "    Given `weights` - a current \"Guess\" of what our weights should be\n",
    "          `X` - matrix of shape (N,d+1) of input features including the feature $1$\n",
    "          `y` - target y values\n",
    "    Return gradient of each weight evaluated at the current value\n",
    "    '''\n",
    "\n",
    "    y_pred = np.dot(X, weights)\n",
    "    error = y_pred - y\n",
    "    return np.dot(X.T, error) / len(y)"
   ]
  },
  {
   "cell_type": "markdown",
   "metadata": {},
   "source": [
    "## Gradient Descent\n",
    "\n",
    "Gradient Descent iteratively updates the model by moving along the negative direction\n",
    "$$\\mathbf{w}^{(t+1)} \\leftarrow \\mathbf{w}^{(t)} - \\eta\\nabla C(\\mathbf{w}^{(t)}),$$ \n",
    "where $\\eta$ is a learning rate and $\\nabla C(w^{(t)})$ is the gradient evaluated at current parameter value $\\mathbf{w}^{(t)}$. In the following, we give the python implementation of the gradient descent on the linear regression problem. Here, we use `idx_res` to store the indices of iterations where we have computed the cost, and use `err_res` to store the cost of models at these iterations. These will be used to plot how the `cost` will behave `versus iteration` number."
   ]
  },
  {
   "cell_type": "code",
   "execution_count": 7,
   "metadata": {},
   "outputs": [],
   "source": [
    "def solve_via_gradient_descent(X, y, print_every=100,\n",
    "                               niter=2000, eta=1):\n",
    "    '''\n",
    "    Solves for linear regression weights with gradient descent.\n",
    "    Given `X` - matrix of shape (N,D) of input features\n",
    "          `y` - target y values\n",
    "          `print_every` - we report performance every 'print_every' iterations\n",
    "          `niter` - the number of iterates allowed\n",
    "          `eta` - learning rate\n",
    "    \n",
    "    Return \n",
    "        `w` - weights after `niter` iterations\n",
    "        `idx_res` - the indices of iterations where we compute the cost\n",
    "        `err_res` - the cost at iterations indicated by idx_res\n",
    "    '''\n",
    "    N, D = np.shape(X)\n",
    "    # initialize all the weights to zeros\n",
    "    w = np.zeros([D])\n",
    "    idx_res = []\n",
    "    err_res = []\n",
    "    for k in range(niter):\n",
    "        # compute the gradient\n",
    "        dw = gradfn(w, X, y)\n",
    "        # gradient descent\n",
    "        w = w - eta * dw\n",
    "        # we report the progress every print_every iterations\n",
    "        # note the operator % calculates the remainder of dividing two values\n",
    "        if k % print_every == print_every - 1:\n",
    "            t_cost = cost(w, X, y)\n",
    "            print('error after %d iteration: %s' % (k, t_cost))\n",
    "            idx_res.append(k)\n",
    "            err_res.append(t_cost)\n",
    "    return w, idx_res, err_res"
   ]
  },
  {
   "cell_type": "markdown",
   "metadata": {},
   "source": [
    "Now we apply **gradient descent** to solve the **Boston House Price** prediction problem , and get the weight w_gd, the indices idx_gd and the errors 'err_gd' on these indices"
   ]
  },
  {
   "cell_type": "code",
   "execution_count": 8,
   "metadata": {},
   "outputs": [
    {
     "name": "stdout",
     "output_type": "stream",
     "text": [
      "error after 99 iteration: 31.79169332623316\n",
      "error after 199 iteration: 31.023607992661905\n",
      "error after 299 iteration: 30.490383155279737\n",
      "error after 399 iteration: 30.089558295291933\n",
      "error after 499 iteration: 29.76576845456071\n",
      "error after 599 iteration: 29.488693376652886\n",
      "error after 699 iteration: 29.241419443720748\n",
      "error after 799 iteration: 29.014275853482015\n",
      "error after 899 iteration: 28.801555744273426\n",
      "error after 999 iteration: 28.599760789662742\n",
      "error after 1099 iteration: 28.406652720498368\n",
      "error after 1199 iteration: 28.220734140804872\n",
      "error after 1299 iteration: 28.04095920855528\n",
      "error after 1399 iteration: 27.866568543075005\n",
      "error after 1499 iteration: 27.696992152320224\n",
      "error after 1599 iteration: 27.531790279455226\n",
      "error after 1699 iteration: 27.370615897731945\n",
      "error after 1799 iteration: 27.21318994176184\n",
      "error after 1899 iteration: 27.059284304933392\n",
      "error after 1999 iteration: 26.908709763895015\n"
     ]
    }
   ],
   "source": [
    "w_gd, idx_gd, err_gd = solve_via_gradient_descent( X=x_in, y=y_target)"
   ]
  },
  {
   "cell_type": "markdown",
   "metadata": {},
   "source": [
    "## Minibatch Gradient Descent\n",
    "\n",
    "The optimization problem in ML often has a **sum** structure in the sense\n",
    "$$\n",
    "C(\\mathbf{w})=\\frac{1}{n}\\sum_{i=1}^nC_i(\\mathbf{w}),\n",
    "$$\n",
    "where $C_i(\\mathbf{w})$ is the loss of the model $\\mathbf{w}$ on the $i$-th example. In our Boston House Price prediction problem, $C_i$ takes the form $C_i(\\mathbf{w})=\\frac{1}{2}(\\mathbf{w}^\\top\\mathbf{x}^{(i)}-y^{(i)})^2$.\n",
    "\n",
    "Gradient descent requires to go through all training examples to compute a single gradient, which may be time consuming if the sample size is large. Minibatch gradient descent improves the efficiency by using a subset of training examples to build an **approximate** gradient. At each iteration, it first randomly draws a set $I\\subset\\{1,2,\\ldots,n\\}$ of size $s$, where we often call $s$ the minibatch size. Then it builds an approximate gradient by\n",
    "$$\n",
    "\\nabla_I(\\mathbf{w}^{(t)})=\\frac{1}{s}\\sum_{i\\in I}\\nabla C_i(\\mathbf{w}^{(t)})\n",
    "$$\n",
    "Now, it updates the model by\n",
    "$$\n",
    "\\mathbf{w}^{(t+1)}=\\mathbf{w}^{(t)}-\\eta_t\\nabla_I(\\mathbf{w}^{(t)}).\n",
    "$$ \n",
    "It is recommended to use $s\\in[20,100]$. Depending on different $s$, minibatch gradient descent recovers several algorithms\n",
    "\\begin{align*}\n",
    "  s<n \\;&\\Rightarrow\\;\\text{Minibatch gradient descent}\\\\\n",
    "  s=1 \\;&\\Rightarrow\\;\\text{Stochastic gradient descent} \n",
    "\\end{align*}\n",
    "In the following, we request you to finish the following implementation of the `minibatch gradient descent` on the linear regression problem. To search a subset of $\\{1,2,\\ldots,n\\}$, we recommend you to use the function `random.sample`. The synatx is `random.sample(sequence, k)`, which returns $k$ length new list of elements chosen from the `sequence`. More details can be found  [here](https://www.geeksforgeeks.org/python-random-sample-function/)"
   ]
  },
  {
   "cell_type": "code",
   "execution_count": 9,
   "metadata": {},
   "outputs": [],
   "source": [
    "def solve_via_minibatch(X, y, print_every=100,\n",
    "                               niter=5000, eta=0.2, batch_size=50):\n",
    "    '''\n",
    "    Solves for linear regression weights with nesterov momentum.\n",
    "    Given `X` - matrix of shape (N,D) of input features\n",
    "          `y` - target y values\n",
    "          `print_every` - we report performance every 'print_every' iterations\n",
    "          `niter` - the number of iterates allowed\n",
    "          `eta` - learning rate\n",
    "          `batch_size` - the size of minibatch\n",
    "    Return \n",
    "        `w` - weights after `niter` iterations\n",
    "        `idx_res` - the indices of iterations where we compute the cost\n",
    "        `err_res` - the cost at iterations\n",
    "    '''\n",
    "    N, D = np.shape(X)\n",
    "    # initialize all the weights to zeros\n",
    "    w = np.zeros([D])\n",
    "    idx_res = []\n",
    "    err_res = []\n",
    "    tset = list(range(N))\n",
    "    for k in range(niter):\n",
    "        # TODO: Insert your code to update w by minibatch gradient descent\n",
    "        idx = random.sample(tset, batch_size)\n",
    "        #sample batch of data\n",
    "        sample_X = X[idx, :]\n",
    "        sample_y = y[idx]\n",
    "        dw = gradfn(w, sample_X, sample_y)\n",
    "        w = w - eta * dw\n",
    "        if k % print_every == print_every - 1:\n",
    "            t_cost = cost(w, X, y)\n",
    "            print('error after %d iteration: %s' % (k, t_cost))\n",
    "            idx_res.append(k)\n",
    "            err_res.append(t_cost)\n",
    "    return w, idx_res, err_res"
   ]
  },
  {
   "cell_type": "markdown",
   "metadata": {},
   "source": [
    "Now we apply minibatch gradient descent to solve the Boston House Price prediction problem."
   ]
  },
  {
   "cell_type": "code",
   "execution_count": 10,
   "metadata": {},
   "outputs": [
    {
     "name": "stdout",
     "output_type": "stream",
     "text": [
      "error after 99 iteration: 33.27702725723502\n",
      "error after 199 iteration: 32.57412474323335\n",
      "error after 299 iteration: 32.20313722160349\n",
      "error after 399 iteration: 31.99614237775239\n",
      "error after 499 iteration: 31.934388660382172\n",
      "error after 599 iteration: 31.632175065523818\n",
      "error after 699 iteration: 31.424333500073395\n",
      "error after 799 iteration: 31.31047858817805\n",
      "error after 899 iteration: 31.165611527847325\n",
      "error after 999 iteration: 31.00555605744675\n",
      "error after 1099 iteration: 30.882484699473487\n",
      "error after 1199 iteration: 30.902934380510015\n",
      "error after 1299 iteration: 30.724457213716416\n",
      "error after 1399 iteration: 30.57669847648646\n",
      "error after 1499 iteration: 30.494388065497176\n",
      "error after 1599 iteration: 30.45552943671352\n",
      "error after 1699 iteration: 30.33916726648913\n",
      "error after 1799 iteration: 30.243250661323835\n",
      "error after 1899 iteration: 30.160029587814638\n",
      "error after 1999 iteration: 30.2689146889197\n",
      "error after 2099 iteration: 30.024488140453713\n",
      "error after 2199 iteration: 30.116311983348886\n",
      "error after 2299 iteration: 29.911178036724095\n",
      "error after 2399 iteration: 30.01411558644271\n",
      "error after 2499 iteration: 29.765365969626302\n",
      "error after 2599 iteration: 29.75281014680539\n",
      "error after 2699 iteration: 29.656402182982024\n",
      "error after 2799 iteration: 29.59785260403141\n",
      "error after 2899 iteration: 29.705737010837286\n",
      "error after 2999 iteration: 29.657567399878264\n",
      "error after 3099 iteration: 29.574279094299925\n",
      "error after 3199 iteration: 29.382040529488904\n",
      "error after 3299 iteration: 29.338965567245964\n",
      "error after 3399 iteration: 29.35701046671672\n",
      "error after 3499 iteration: 29.243985601303752\n",
      "error after 3599 iteration: 29.243865873824458\n",
      "error after 3699 iteration: 29.277767581183856\n",
      "error after 3799 iteration: 29.097475410298483\n",
      "error after 3899 iteration: 29.0699720265313\n",
      "error after 3999 iteration: 29.164812282520973\n",
      "error after 4099 iteration: 28.967832161340795\n",
      "error after 4199 iteration: 28.945693427504636\n",
      "error after 4299 iteration: 29.111925035761796\n",
      "error after 4399 iteration: 28.855671476766457\n",
      "error after 4499 iteration: 28.820125865743456\n",
      "error after 4599 iteration: 28.86302619073156\n",
      "error after 4699 iteration: 28.72029660109569\n",
      "error after 4799 iteration: 28.713949831463097\n",
      "error after 4899 iteration: 28.64546033854404\n",
      "error after 4999 iteration: 28.642729446917784\n"
     ]
    }
   ],
   "source": [
    "w_batch, idx_batch, err_batch = solve_via_minibatch( X=x_in, y=y_target)"
   ]
  },
  {
   "cell_type": "markdown",
   "metadata": {},
   "source": [
    "### Comparison between Minibatch Gradient Descent and Gradient Descent\n",
    "\n",
    "We can now compare the behavie of Minibatch Gradient Descent and Gradient Descent. In particular, we will show how the `cost` of models found by the algorithm at different iterations would behave with respect to the iteration number."
   ]
  },
  {
   "cell_type": "code",
   "execution_count": 11,
   "metadata": {},
   "outputs": [
    {
     "data": {
      "image/png": "[encoded data removed]",
      "text/plain": [
       "<Figure size 432x288 with 1 Axes>"
      ]
     },
     "metadata": {
      "needs_background": "light"
     },
     "output_type": "display_data"
    }
   ],
   "source": [
    "plt.plot(idx_batch, err_batch, color=\"red\", linewidth=2.5, linestyle=\"-\", label=\"minibatch\")\n",
    "plt.plot(idx_gd, err_gd, color=\"blue\", linewidth=2.5, linestyle=\"-\", label=\"gradient descent\")\n",
    "plt.legend(loc='upper right', prop={'size': 12})\n",
    "plt.title('comparison between minibatch gradient descent and gradient descent')\n",
    "plt.xlabel(\"number of iterations\")\n",
    "plt.ylabel(\"cost\")\n",
    "plt.grid()\n",
    "plt.show()      "
   ]
  },
  {
   "cell_type": "markdown",
   "metadata": {},
   "source": [
    "As we see, gradient descent converges faster w.r.t. the number of iterations. However, gradient descent requires more computation cost per iteration. Therefore, we cannot conclude that gradient descent is better than minibatch gradient descent in this problem."
   ]
  },
  {
   "cell_type": "code",
   "execution_count": null,
   "metadata": {},
   "outputs": [],
   "source": []
  }
 ],
 "metadata": {
  "kernelspec": {
   "display_name": "Python 3.10.6 64-bit",
   "language": "python",
   "name": "python3"
  },
  "language_info": {
   "codemirror_mode": {
    "name": "ipython",
    "version": 3
   },
   "file_extension": ".py",
   "mimetype": "text/x-python",
   "name": "python",
   "nbconvert_exporter": "python",
   "pygments_lexer": "ipython3",
   "version": "3.10.6"
  },
  "vscode": {
   "interpreter": {
    "hash": "aee8b7b246df8f9039afb4144a1f6fd8d2ca17a180786b69acc140d282b71a49"
   }
  }
 },
 "nbformat": 4,
 "nbformat_minor": 4
}
